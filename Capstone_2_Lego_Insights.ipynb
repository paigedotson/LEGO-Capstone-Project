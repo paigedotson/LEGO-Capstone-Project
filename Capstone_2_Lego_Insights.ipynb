{
 "cells": [
  {
   "cell_type": "code",
   "execution_count": 2,
   "id": "a8e39f5c-28c6-4375-a2e4-c56b55b3a1a7",
   "metadata": {},
   "outputs": [],
   "source": [
    "#import libraries\n",
    "import pandas as pd\n",
    "import numpy as np\n",
    "import seaborn as sns\n",
    "import matplotlib.pyplot as plt"
   ]
  },
  {
   "cell_type": "code",
   "execution_count": 3,
   "id": "49c89b30-6450-40f6-be36-eb448285ffc8",
   "metadata": {},
   "outputs": [
    {
     "name": "stdout",
     "output_type": "stream",
     "text": [
      "2017 1950\n"
     ]
    }
   ],
   "source": [
    "#determine time frame of dataset\n",
    "sets = pd.read_csv('sets.csv')\n",
    "\n",
    "max_year = sets['year'].max()\n",
    "min_year = sets['year'].min()\n",
    "\n",
    "print(max_year, min_year)"
   ]
  },
  {
   "cell_type": "code",
   "execution_count": 4,
   "id": "0989ef07-b442-44dd-a2c5-a78839238f1b",
   "metadata": {},
   "outputs": [
    {
     "name": "stdout",
     "output_type": "stream",
     "text": [
      "       id                          name     rgb is_trans\n",
      "0      -1                       Unknown  0033B2        f\n",
      "1       0                         Black  05131D        f\n",
      "2       1                          Blue  0055BF        f\n",
      "3       2                         Green  237841        f\n",
      "4       3                Dark Turquoise  008F9B        f\n",
      "..    ...                           ...     ...      ...\n",
      "130  1004  Trans Flame Yellowish Orange  FCB76D        t\n",
      "131  1005             Trans Fire Yellow  FBE890        t\n",
      "132  1006        Trans Light Royal Blue  B4D4F7        t\n",
      "133  1007                 Reddish Lilac  8E5597        f\n",
      "134  9999                    [No Color]  05131D        f\n",
      "\n",
      "[135 rows x 4 columns]\n"
     ]
    }
   ],
   "source": [
    "#import colors.csv\n",
    "colors = pd.read_csv('colors.csv')\n",
    "print(colors)"
   ]
  },
  {
   "cell_type": "code",
   "execution_count": 5,
   "id": "3d8ec571-1716-4129-a8e1-4bd79a222d9c",
   "metadata": {},
   "outputs": [
    {
     "name": "stdout",
     "output_type": "stream",
     "text": [
      "id          0\n",
      "name        0\n",
      "rgb         0\n",
      "is_trans    0\n",
      "dtype: int64\n"
     ]
    }
   ],
   "source": [
    "#determine how many columns in colors are null\n",
    "nan_count_colors = colors.isna().sum()\n",
    "print(nan_count_colors)"
   ]
  },
  {
   "cell_type": "code",
   "execution_count": 6,
   "id": "20b36f63-14f9-43a4-9742-6c38baef169a",
   "metadata": {},
   "outputs": [
    {
     "data": {
      "text/plain": [
       "name                      rgb   \n",
       "Aqua                      B3D7D1    1\n",
       "Pearl White               F2F3F2    1\n",
       "Speckle Black-Copper      000000    1\n",
       "Sky Blue                  7DBFDD    1\n",
       "Sand Red                  D67572    1\n",
       "                                   ..\n",
       "Glitter Trans-Light Blue  68BCC5    1\n",
       "Glitter Trans-Dark Pink   DF6695    1\n",
       "Glitter Trans-Clear       FFFFFF    1\n",
       "Flesh                     D09168    1\n",
       "[No Color]                05131D    1\n",
       "Length: 135, dtype: int64"
      ]
     },
     "execution_count": 6,
     "metadata": {},
     "output_type": "execute_result"
    }
   ],
   "source": [
    "#use value_counts to determine how many unique LEGO colors exist; subset to only include HEX code and name for readability\n",
    "colors.value_counts(subset=['name','rgb'])"
   ]
  },
  {
   "cell_type": "code",
   "execution_count": 7,
   "id": "7196a5de-589b-4c37-ab8a-70e27ef453ed",
   "metadata": {},
   "outputs": [
    {
     "data": {
      "text/plain": [
       "is_trans\n",
       "f           107\n",
       "t            28\n",
       "dtype: int64"
      ]
     },
     "execution_count": 7,
     "metadata": {},
     "output_type": "execute_result"
    }
   ],
   "source": [
    "#determine how many translucent colors there are\n",
    "colors.value_counts(subset=['is_trans'])"
   ]
  },
  {
   "cell_type": "code",
   "execution_count": 8,
   "id": "5df0cb6d-185d-4263-a99e-721fa66d9127",
   "metadata": {},
   "outputs": [
    {
     "name": "stdout",
     "output_type": "stream",
     "text": [
      "       id                          name     rgb is_trans\n",
      "0      -1                Very Dark Blue  0033B2        f\n",
      "1       0                         Black  05131D        f\n",
      "2       1                          Blue  0055BF        f\n",
      "3       2                         Green  237841        f\n",
      "4       3                Dark Turquoise  008F9B        f\n",
      "..    ...                           ...     ...      ...\n",
      "130  1004  Trans Flame Yellowish Orange  FCB76D        t\n",
      "131  1005             Trans Fire Yellow  FBE890        t\n",
      "132  1006        Trans Light Royal Blue  B4D4F7        t\n",
      "133  1007                 Reddish Lilac  8E5597        f\n",
      "134  9999                   Mainly Blue  05131D        f\n",
      "\n",
      "[135 rows x 4 columns]\n"
     ]
    }
   ],
   "source": [
    "#replace 'Unknown' based on hex code in column 'rgb' color name using df.loc[]\n",
    "colors.loc[colors['name'] == 'Unknown','name'] = 'Very Dark Blue'\n",
    "\n",
    "#replace '[No Color]' based on hex code in column 'rgb' color name using df.loc[]\n",
    "colors.loc[colors['name'] == '[No Color]', 'name'] = 'Mainly Blue'\n",
    "\n",
    "#print result to check changes\n",
    "print(colors)"
   ]
  },
  {
   "cell_type": "code",
   "execution_count": 9,
   "id": "a93159cd-103d-4a33-9344-411c51a65543",
   "metadata": {},
   "outputs": [
    {
     "name": "stdout",
     "output_type": "stream",
     "text": [
      "          id            name     rgb is_trans  inventory_id      part_num  \\\n",
      "0         -1  Very Dark Blue  0033B2        f          80.0     belvfair6   \n",
      "1         -1  Very Dark Blue  0033B2        f          80.0     belvfem26   \n",
      "2         -1  Very Dark Blue  0033B2        f          80.0    belvmale13   \n",
      "3         -1  Very Dark Blue  0033B2        f         214.0         fab6e   \n",
      "4         -1  Very Dark Blue  0033B2        f         250.0     belvfair4   \n",
      "...      ...             ...     ...      ...           ...           ...   \n",
      "580250  9999     Mainly Blue  05131D        f       17826.0         30890   \n",
      "580251  9999     Mainly Blue  05131D        f       18221.0     8880stk01   \n",
      "580252  9999     Mainly Blue  05131D        f       18322.0  75171stkpr01   \n",
      "580253  9999     Mainly Blue  05131D        f       18704.0         34100   \n",
      "580254  9999     Mainly Blue  05131D        f       18708.0         20243   \n",
      "\n",
      "        color_id  quantity is_spare  \n",
      "0           -1.0       1.0        f  \n",
      "1           -1.0       1.0        f  \n",
      "2           -1.0       1.0        f  \n",
      "3           -1.0       1.0        f  \n",
      "4           -1.0       1.0        f  \n",
      "...          ...       ...      ...  \n",
      "580250    9999.0       1.0        f  \n",
      "580251    9999.0       1.0        t  \n",
      "580252    9999.0       1.0        f  \n",
      "580253    9999.0       1.0        f  \n",
      "580254    9999.0       1.0        f  \n",
      "\n",
      "[580255 rows x 9 columns]\n"
     ]
    }
   ],
   "source": [
    "#import inventory_parts file\n",
    "inventory_parts = pd.read_csv('inventory_parts.csv')\n",
    "\n",
    "#join colors and inventory_parts as colors_inventory\n",
    "colors_inventory = colors.merge(inventory_parts, how='left', left_on='id',right_on='color_id')\n",
    "\n",
    "#print to see merged table\n",
    "print(colors_inventory)"
   ]
  },
  {
   "cell_type": "code",
   "execution_count": 10,
   "id": "c2e46372-ba47-4d92-977d-95a30c6ff824",
   "metadata": {},
   "outputs": [
    {
     "name": "stdout",
     "output_type": "stream",
     "text": [
      "name\n",
      "Black                           115176\n",
      "White                            66549\n",
      "Light Bluish Gray                55317\n",
      "Red                              50217\n",
      "Dark Bluish Gray                 43913\n",
      "                                 ...  \n",
      "Trans-Black IR Lens                  1\n",
      "Trans Light Royal Blue               1\n",
      "Trans Flame Yellowish Orange         1\n",
      "Trans Fire Yellow                    1\n",
      "Reddish Lilac                        1\n",
      "Name: name, Length: 135, dtype: int64\n"
     ]
    }
   ],
   "source": [
    "#group the types of parts by their color and count the number of types of parts with that color; sort values based on number of types of parts with that color\n",
    "colors_inventory_justcolors = colors_inventory.groupby(['name'])['name'].count().sort_values(ascending=False)\n",
    "print(colors_inventory_justcolors)\n",
    "\n",
    "#note: the quantity column represents number of parts of that piece in the set and this analysis just looks at the count of colors represented the type of part"
   ]
  },
  {
   "cell_type": "code",
   "execution_count": 11,
   "id": "ef463133-0b95-47ba-8cb4-a58ad87178f6",
   "metadata": {},
   "outputs": [],
   "source": [
    "#note: several colors only appear in one type of brick (e.g., 'Trans-Black IR Lens') while several colors correspond to a lot of bricks (e.g., 'Black')\n",
    "    #i.e., determining a set based on a rare color makes more sense than using a common color"
   ]
  },
  {
   "cell_type": "code",
   "execution_count": 12,
   "id": "62cc41b8-56fd-4a7b-a97a-2e5589794e9e",
   "metadata": {},
   "outputs": [
    {
     "name": "stdout",
     "output_type": "stream",
     "text": [
      "        id_colors            name     rgb is_trans  quantity       set_num\n",
      "0              -1  Very Dark Blue  0033B2        f       1.0        5827-1\n",
      "1              -1  Very Dark Blue  0033B2        f       1.0        5827-1\n",
      "2              -1  Very Dark Blue  0033B2        f       1.0        5827-1\n",
      "3               1            Blue  0055BF        f       2.0        5827-1\n",
      "4               1            Blue  0055BF        f       2.0        5827-1\n",
      "...           ...             ...     ...      ...       ...           ...\n",
      "580246       9999     Mainly Blue  05131D        f       1.0        9874-1\n",
      "580247       9999     Mainly Blue  05131D        f       1.0        6861-2\n",
      "580248       9999     Mainly Blue  05131D        f       1.0  DKLEGOBOOK-2\n",
      "580249       9999     Mainly Blue  05131D        f       1.0        8891-1\n",
      "580250       9999     Mainly Blue  05131D        f       1.0         890-2\n",
      "\n",
      "[580251 rows x 6 columns]\n"
     ]
    }
   ],
   "source": [
    "#import inventories and sets files\n",
    "inventories = pd.read_csv('inventories.csv')\n",
    "sets = pd.read_csv('sets.csv')\n",
    "\n",
    "#join inventory with inventories on inventory_id = id using an inner join to return matching records\n",
    "colors_inventory_inventories = pd.merge(colors_inventory, inventories, how='inner', left_on='inventory_id',right_on='id', suffixes=('_colors','_inventories'))\n",
    "\n",
    "#drop irrelevant columns\n",
    "#inventory id and id_inventories: no longer needed;\n",
    "#part_num: focus on colors, not the types of parts; \n",
    "#is_spare: focus on included pieces, irrelevant if it's spare or not;\n",
    "#version: all versions are the same (1), doesn't add information\n",
    "#color_id: color_id_colors = color_id\n",
    "colors_inventory_inventories.drop(['inventory_id','part_num','is_spare','version','color_id','id_inventories'], axis=1, inplace=True)\n",
    "\n",
    "#colors_inventory_inventories shows what colors appear in what sets\n",
    "print(colors_inventory_inventories)"
   ]
  },
  {
   "cell_type": "code",
   "execution_count": 13,
   "id": "ceb42563-c951-4c55-a57a-45c12ebe2061",
   "metadata": {},
   "outputs": [
    {
     "data": {
      "text/html": [
       "<div>\n",
       "<style scoped>\n",
       "    .dataframe tbody tr th:only-of-type {\n",
       "        vertical-align: middle;\n",
       "    }\n",
       "\n",
       "    .dataframe tbody tr th {\n",
       "        vertical-align: top;\n",
       "    }\n",
       "\n",
       "    .dataframe thead th {\n",
       "        text-align: right;\n",
       "    }\n",
       "</style>\n",
       "<table border=\"1\" class=\"dataframe\">\n",
       "  <thead>\n",
       "    <tr style=\"text-align: right;\">\n",
       "      <th></th>\n",
       "      <th>count</th>\n",
       "    </tr>\n",
       "  </thead>\n",
       "  <tbody>\n",
       "    <tr>\n",
       "      <th>count</th>\n",
       "      <td>10713</td>\n",
       "    </tr>\n",
       "    <tr>\n",
       "      <th>mean</th>\n",
       "      <td>54</td>\n",
       "    </tr>\n",
       "    <tr>\n",
       "      <th>std</th>\n",
       "      <td>68</td>\n",
       "    </tr>\n",
       "    <tr>\n",
       "      <th>min</th>\n",
       "      <td>1</td>\n",
       "    </tr>\n",
       "    <tr>\n",
       "      <th>25%</th>\n",
       "      <td>9</td>\n",
       "    </tr>\n",
       "    <tr>\n",
       "      <th>50%</th>\n",
       "      <td>27</td>\n",
       "    </tr>\n",
       "    <tr>\n",
       "      <th>75%</th>\n",
       "      <td>73</td>\n",
       "    </tr>\n",
       "    <tr>\n",
       "      <th>max</th>\n",
       "      <td>769</td>\n",
       "    </tr>\n",
       "  </tbody>\n",
       "</table>\n",
       "</div>"
      ],
      "text/plain": [
       "       count\n",
       "count  10713\n",
       "mean      54\n",
       "std       68\n",
       "min        1\n",
       "25%        9\n",
       "50%       27\n",
       "75%       73\n",
       "max      769"
      ]
     },
     "execution_count": 13,
     "metadata": {},
     "output_type": "execute_result"
    }
   ],
   "source": [
    "#determine how many colors in each set\n",
    "color_in_sets = colors_inventory_inventories.groupby(['set_num'])['quantity'].count().sort_values(ascending=False).reset_index(name='count')\n",
    "\n",
    "#what are the mean, min/max, stdev of colors per set\n",
    "color_in_sets.describe().astype(int)"
   ]
  },
  {
   "cell_type": "code",
   "execution_count": 94,
   "id": "f26e2e46-84b8-4df4-9fae-8a04a99fa2ca",
   "metadata": {},
   "outputs": [
    {
     "name": "stdout",
     "output_type": "stream",
     "text": [
      "     id_colors     rgb                    name   count\n",
      "0            0  05131D                   Black  115176\n",
      "1           15  FFFFFF                   White   66549\n",
      "2           71  A0A5A9       Light Bluish Gray   55317\n",
      "3            4  C91A09                     Red   50217\n",
      "4           72  6C6E68        Dark Bluish Gray   43913\n",
      "..         ...     ...                     ...     ...\n",
      "126         68  F3CF9B       Very Light Orange       2\n",
      "127        503  E6E3DA         Very Light Gray       2\n",
      "128       1001  9391E4           Medium Violet       2\n",
      "129         62  3CB371            Chrome Green       2\n",
      "130       1006  B4D4F7  Trans Light Royal Blue       1\n",
      "\n",
      "[131 rows x 4 columns]\n"
     ]
    }
   ],
   "source": [
    "#create color_sets to store the number of times colors appear in sets \n",
    "color_sets = colors_inventory_inventories.groupby(['id_colors','rgb','name'])['quantity'].count().sort_values(ascending=False).reset_index(name='count')\n",
    "print(color_sets)"
   ]
  },
  {
   "cell_type": "code",
   "execution_count": 15,
   "id": "20ddde1d-05d2-4a71-93bf-a19aeb5acd7f",
   "metadata": {},
   "outputs": [
    {
     "data": {
      "text/plain": [
       "count       131\n",
       "mean       4429\n",
       "std       14307\n",
       "min           1\n",
       "25%          24\n",
       "50%         255\n",
       "75%        1971\n",
       "max      115176\n",
       "Name: count, dtype: int64"
      ]
     },
     "execution_count": 15,
     "metadata": {},
     "output_type": "execute_result"
    }
   ],
   "source": [
    "#descriptive statistics for colors_sets to determine cutoff for most common and least common colors\n",
    "color_sets['count'].describe().astype(int)"
   ]
  },
  {
   "cell_type": "code",
   "execution_count": 99,
   "id": "c72863c3-edb8-4f75-9d30-afed085f9903",
   "metadata": {},
   "outputs": [
    {
     "data": {
      "text/plain": [
       "[Text(0.5, 0, 'Name of Color'),\n",
       " Text(0, 0.5, 'Number of Times Color Appears in LEGO Sets')]"
      ]
     },
     "execution_count": 99,
     "metadata": {},
     "output_type": "execute_result"
    },
    {
     "data": {
      "image/png": "[encoded data removed]",
      "text/plain": [
       "<Figure size 432x288 with 1 Axes>"
      ]
     },
     "metadata": {
      "needs_background": "light"
     },
     "output_type": "display_data"
    }
   ],
   "source": [
    "#assume rare colors are colors lower than the 25th percentile\n",
    "#use len() function to count rows with single condition (color_sets['count'] < 24) since 24 is the 25th percentile\n",
    "color_sets_rare = len(color_sets[color_sets['count'] < 24])\n",
    "\n",
    "#determine least common colors/rare colors\n",
    "rare_colors = color_sets.tail(color_sets_rare)\n",
    "\n",
    "#rename 'name' to 'rare_name'\n",
    "rare_colors = rare_colors.rename(columns = {'name':'rare_name'}).reset_index(drop=True)\n",
    "\n",
    "#create a list of hex codes of the rare color from rare_colors\n",
    "color_list = list(rare_colors['rgb'])\n",
    "\n",
    "#add a hashtag to each list item in color_list\n",
    "color_list_updated = [\"#\" + color for color in color_list]\n",
    "\n",
    "#change Glitter Trans Clear hex code to be a visible color; hex code color for glitter is #E6E8FA\n",
    "for i in range(len(color_list_updated)):\n",
    "    if color_list_updated[i] == '#FFFFFF':\n",
    "         color_list_updated[i] = '#E6E8FA'\n",
    "\n",
    "#set color palette for sns \n",
    "sns.set_palette(sns.color_palette(color_list_updated))\n",
    "\n",
    "ax = sns.barplot(data=rare_colors, x='rare_name', y='count') #y is the number of times that a color appears in any set\n",
    "plt.xticks(rotation=90)\n",
    "ax.set(xlabel='Name of Color', ylabel='Number of Times Color Appears in LEGO Sets')"
   ]
  },
  {
   "cell_type": "code",
   "execution_count": 19,
   "id": "22a00a97-a3ff-4af0-bcf1-5ed68415635e",
   "metadata": {},
   "outputs": [
    {
     "name": "stdout",
     "output_type": "stream",
     "text": [
      "                     name     rgb  set_num\n",
      "0              Light Pink  FECCCF   5895-1\n",
      "1         Light Turquoise  55A5AF   5838-1\n",
      "2         Light Turquoise  55A5AF   5850-1\n",
      "3             Chrome Blue  6C96BF   5850-1\n",
      "4              Light Pink  FECCCF   5850-1\n",
      "..                    ...     ...      ...\n",
      "318              Sky Blue  7DBFDD   7530-1\n",
      "319    Trans-Light Purple  96709F  7574-20\n",
      "320  Chrome Antique Brass  645A4C  HPG03-1\n",
      "321    Trans-Light Purple  96709F   7574-5\n",
      "322    Trans-Light Purple  96709F   7574-5\n",
      "\n",
      "[323 rows x 3 columns]\n"
     ]
    }
   ],
   "source": [
    "#determine the sets that the rare colors appear in \n",
    "#reset the index, drop=True\n",
    "rare_sets = colors_inventory_inventories[colors_inventory_inventories['name'].isin(rare_colors['rare_name'])].reset_index(drop=True)\n",
    "\n",
    "#drop the irrelevant columns\n",
    "rare_sets = rare_sets.drop(['id_colors','is_trans','quantity'], axis=1)\n",
    "\n",
    "#this gives a dataframe with the color name, the hex code and the set number the colors appear in\n",
    "print(rare_sets)"
   ]
  },
  {
   "cell_type": "code",
   "execution_count": 20,
   "id": "7f5be1d2-1587-426b-9153-e1f2cdfc3c5d",
   "metadata": {},
   "outputs": [
    {
     "name": "stdout",
     "output_type": "stream",
     "text": [
      "        set_num                                           name_set  year  \\\n",
      "0          00-1                                    Weetabix Castle  1970   \n",
      "1        0011-2                                  Town Mini-Figures  1978   \n",
      "2        2181-1                                         Infomaniac  1997   \n",
      "3         300-1                             T-Junction Road Plates  1978   \n",
      "4         301-1                                 Curved Road Plates  1978   \n",
      "...         ...                                                ...   ...   \n",
      "11668   K6762-1                                        Western Kit  2002   \n",
      "11669   K7623-1        Indiana Jones Classic Adventures Collection  2008   \n",
      "11670  llca27-1  Legoland Pirate with Parrot (Legoland California)  2006   \n",
      "11671  LLCA29-1  Pirate Treasure Chest Bank (LLCA Ambassador Pa...  2006   \n",
      "11672  LLCA30-1  Pirate Ship Diorama (LLCA Ambassador Pass Excl...  2006   \n",
      "\n",
      "       theme_id  num_parts   id     name_theme  parent_id  \n",
      "0           414        471  414         Castle      411.0  \n",
      "1            84         12   84   Supplemental       67.0  \n",
      "2            84          4   84   Supplemental       67.0  \n",
      "3            84          2   84   Supplemental       67.0  \n",
      "4            84          2   84   Supplemental       67.0  \n",
      "...         ...        ...  ...            ...        ...  \n",
      "11668       475          3  475        Western        NaN  \n",
      "11669       264          4  264  Indiana Jones        NaN  \n",
      "11670       430         70  430        Pirates      425.0  \n",
      "11671       430        215  430        Pirates      425.0  \n",
      "11672       430        127  430        Pirates      425.0  \n",
      "\n",
      "[11673 rows x 8 columns]\n"
     ]
    }
   ],
   "source": [
    "#import sets and themes\n",
    "sets = pd.read_csv('sets.csv')\n",
    "themes = pd.read_csv('themes.csv')\n",
    "\n",
    "#join sets and themes\n",
    "set_themes = sets.merge(right=themes, how='inner', left_on='theme_id', right_on='id', suffixes=('_set','_theme'))\n",
    "print(set_themes)"
   ]
  },
  {
   "cell_type": "code",
   "execution_count": 21,
   "id": "72bbff52-bfa5-4c11-9655-716901812653",
   "metadata": {},
   "outputs": [
    {
     "name": "stdout",
     "output_type": "stream",
     "text": [
      "Supplemental           496\n",
      "Technic                435\n",
      "City                   287\n",
      "Friends                269\n",
      "Basic Set              257\n",
      "                      ... \n",
      "Ghostbusters             1\n",
      "Planet Series 3          1\n",
      "Star Wars Episode 8      1\n",
      "Imperial Guards          1\n",
      "Indiana Jones            1\n",
      "Name: name_theme, Length: 386, dtype: int64\n"
     ]
    }
   ],
   "source": [
    "#determine how many sets per theme\n",
    "num_themes = set_themes['name_theme'].value_counts()\n",
    "print(num_themes)"
   ]
  },
  {
   "cell_type": "code",
   "execution_count": 22,
   "id": "b34cc4ab-d694-469e-8528-6af806ff7b94",
   "metadata": {},
   "outputs": [
    {
     "data": {
      "text/plain": [
       "count    386\n",
       "mean      30\n",
       "std       53\n",
       "min        1\n",
       "25%        6\n",
       "50%       14\n",
       "75%       27\n",
       "max      496\n",
       "Name: name_theme, dtype: int64"
      ]
     },
     "execution_count": 22,
     "metadata": {},
     "output_type": "execute_result"
    }
   ],
   "source": [
    "#descriptive statistics of the number of sets\n",
    "num_themes.describe().astype(int)"
   ]
  },
  {
   "cell_type": "code",
   "execution_count": 100,
   "id": "20b2f341-78de-4a76-99b6-325ed76c32bb",
   "metadata": {},
   "outputs": [],
   "source": [
    "#colors associated with each theme\n",
    "\n",
    "#join colors_inventory_inventories with set_themes\n",
    "color_themes = colors_inventory_inventories.merge(right=set_themes, left_on='set_num', right_on='set_num', how='inner')"
   ]
  },
  {
   "cell_type": "code",
   "execution_count": 25,
   "id": "c092ec94-ca40-4215-ac39-ced8b4fa9d4e",
   "metadata": {},
   "outputs": [
    {
     "data": {
      "text/plain": [
       "name_theme\n",
       "Basic Set                  20233\n",
       "Star Wars Episode 4/5/6    17357\n",
       "Ninjago                    16876\n",
       "Friends                    16603\n",
       "Creator                    14704\n",
       "                           ...  \n",
       "Jumbo Bricks                  11\n",
       "4 Juniors                     10\n",
       "Classic Town                   9\n",
       "Control Lab                    2\n",
       "HO 1:87 Vehicles               1\n",
       "Name: name, Length: 379, dtype: int64"
      ]
     },
     "execution_count": 25,
     "metadata": {},
     "output_type": "execute_result"
    }
   ],
   "source": [
    "#how many colors in each theme\n",
    "color_themes.groupby(['name_theme'])['name'].count().sort_values(ascending=False)"
   ]
  },
  {
   "cell_type": "code",
   "execution_count": 28,
   "id": "e7967d12-420a-4aa5-985f-29f57a1e87e2",
   "metadata": {},
   "outputs": [
    {
     "data": {
      "text/plain": [
       "name_theme  name      \n",
       "12V         Black         576\n",
       "            Blue          127\n",
       "            Brown           4\n",
       "            Dark Gray      25\n",
       "            Green           1\n",
       "                         ... \n",
       "eLAB        Green           4\n",
       "            Light Gray     27\n",
       "            Red             8\n",
       "            White           4\n",
       "            Yellow          9\n",
       "Name: name, Length: 10443, dtype: int64"
      ]
     },
     "execution_count": 28,
     "metadata": {},
     "output_type": "execute_result"
    }
   ],
   "source": [
    "#color makeup of each theme\n",
    "color_themes.groupby(['name_theme','name'])['name'].count()\n"
   ]
  },
  {
   "cell_type": "code",
   "execution_count": 29,
   "id": "4f7c9a0e-5ada-4137-b340-806e4e7a39ea",
   "metadata": {},
   "outputs": [
    {
     "name": "stdout",
     "output_type": "stream",
     "text": [
      "Supplemental     496\n",
      "Technic          435\n",
      "City             287\n",
      "Friends          269\n",
      "Basic Set        257\n",
      "Creator          249\n",
      "Gear             246\n",
      "Service Packs    242\n",
      "Duplo            219\n",
      "Star Wars        211\n",
      "Construction     194\n",
      "Ninjago          191\n",
      "Police           174\n",
      "Airport          172\n",
      "Name: name_theme, dtype: int64\n"
     ]
    }
   ],
   "source": [
    "#top ten themes based on number of sets (minus Supplemental, Basic Set, Service Packs, and Gear)\n",
    "print(num_themes.head(14))\n"
   ]
  },
  {
   "cell_type": "code",
   "execution_count": 30,
   "id": "59caf98e-bffe-489e-b241-9019a5693a88",
   "metadata": {},
   "outputs": [
    {
     "data": {
      "text/plain": [
       "name_theme  name               \n",
       "Airport     Black                  2192\n",
       "            Blue                    776\n",
       "            Bright Green              1\n",
       "            Bright Light Orange       1\n",
       "            Bright Pink               2\n",
       "                                   ... \n",
       "Technic     Trans-Orange             39\n",
       "            Trans-Red                66\n",
       "            Trans-Yellow              8\n",
       "            White                   409\n",
       "            Yellow                  533\n",
       "Name: name, Length: 568, dtype: int64"
      ]
     },
     "execution_count": 30,
     "metadata": {},
     "output_type": "execute_result"
    }
   ],
   "source": [
    "#determine color make up from top ten sets\n",
    "\n",
    "#create top themes variables from color_themes['name_theme']\n",
    "technic = color_themes['name_theme'] == 'Technic'\n",
    "city = color_themes['name_theme'] == 'City'\n",
    "friends = color_themes['name_theme'] == 'Friends'\n",
    "creator = color_themes['name_theme'] == 'Creator'\n",
    "duplo = color_themes['name_theme'] == 'Duplo'\n",
    "star_wars = color_themes['name_theme'] == 'Star Wars'\n",
    "construction = color_themes['name_theme'] == 'Construction'\n",
    "ninjago = color_themes['name_theme'] == 'Ninjago'\n",
    "police = color_themes['name_theme'] == 'Police'\n",
    "airport = color_themes['name_theme'] == 'Airport'\n",
    "\n",
    "#pass top_themes into color_themes to create a dataframe of only these themes\n",
    "color_top_themes = color_themes[technic | city | friends | creator | duplo | star_wars | construction | ninjago | police | airport]\n",
    "\n",
    "#group color_top_themes by name_theme and name\n",
    "color_top_themes.groupby(['name_theme','name'])['name'].count()"
   ]
  },
  {
   "cell_type": "code",
   "execution_count": 103,
   "id": "bad939a3-e1be-41d4-bbd7-e3593b86e7f6",
   "metadata": {},
   "outputs": [
    {
     "name": "stdout",
     "output_type": "stream",
     "text": [
      "    name_theme           rare_name  count_rare_colors_in_theme\n",
      "0     Aquazone         Chrome Blue                           1\n",
      "1     Atlantis  Speckle Black-Gold                           5\n",
      "2        Basic    Medium Dark Pink                           6\n",
      "3    Basic Set        Light Purple                          13\n",
      "4    Basic Set     Very Light Gray                           1\n",
      "..         ...                 ...                         ...\n",
      "99      Titans   Trans-Neon Yellow                           1\n",
      "100        Toa   Trans-Neon Yellow                           2\n",
      "101   Toa Nuva   Trans-Neon Yellow                           1\n",
      "102     Turaga   Trans-Neon Yellow                           2\n",
      "103      Xalax         Sand Purple                           2\n",
      "\n",
      "[104 rows x 3 columns]\n"
     ]
    },
    {
     "data": {
      "text/plain": [
       "(array([ 0,  1,  2,  3,  4,  5,  6,  7,  8,  9, 10, 11, 12, 13, 14, 15, 16,\n",
       "        17, 18, 19, 20, 21, 22, 23, 24, 25, 26, 27, 28, 29, 30, 31]),\n",
       " [Text(0, 0, 'Chrome Blue'),\n",
       "  Text(1, 0, 'Speckle Black-Gold'),\n",
       "  Text(2, 0, 'Medium Dark Pink'),\n",
       "  Text(3, 0, 'Light Purple'),\n",
       "  Text(4, 0, 'Very Light Gray'),\n",
       "  Text(5, 0, 'Light Pink'),\n",
       "  Text(6, 0, 'Metallic Green'),\n",
       "  Text(7, 0, 'Pearl Very Light Gray'),\n",
       "  Text(8, 0, 'Chrome Antique Brass'),\n",
       "  Text(9, 0, 'Glitter Trans-Purple'),\n",
       "  Text(10, 0, 'Light Orange'),\n",
       "  Text(11, 0, 'Light Salmon'),\n",
       "  Text(12, 0, 'Light Turquoise'),\n",
       "  Text(13, 0, 'Pearl White'),\n",
       "  Text(14, 0, 'Sky Blue'),\n",
       "  Text(15, 0, 'Trans Light Royal Blue'),\n",
       "  Text(16, 0, 'Trans-Light Purple'),\n",
       "  Text(17, 0, 'Very Light Orange'),\n",
       "  Text(18, 0, 'Glitter Trans-Clear'),\n",
       "  Text(19, 0, 'Glitter Trans-Light Blue'),\n",
       "  Text(20, 0, 'Glitter Trans-Neon Green'),\n",
       "  Text(21, 0, 'Light Lime'),\n",
       "  Text(22, 0, 'Dark Blue-Violet'),\n",
       "  Text(23, 0, 'Medium Violet'),\n",
       "  Text(24, 0, 'Speckle Black-Copper'),\n",
       "  Text(25, 0, 'Speckle DBGray-Silver'),\n",
       "  Text(26, 0, 'Sand Purple'),\n",
       "  Text(27, 0, 'Rust'),\n",
       "  Text(28, 0, 'Trans-Neon Yellow'),\n",
       "  Text(29, 0, 'Salmon'),\n",
       "  Text(30, 0, 'Chrome Green'),\n",
       "  Text(31, 0, 'Chrome Black')])"
      ]
     },
     "execution_count": 103,
     "metadata": {},
     "output_type": "execute_result"
    },
    {
     "data": {
      "image/png": "[encoded data removed]",
      "text/plain": [
       "<Figure size 432x288 with 1 Axes>"
      ]
     },
     "metadata": {
      "needs_background": "light"
     },
     "output_type": "display_data"
    }
   ],
   "source": [
    "#determine what rare colors appear in color_top_themes and color_themes\n",
    "rare_colors_in_themes = color_themes.merge(rare_colors, how='inner', left_on='name', right_on='rare_name').groupby(['name_theme','rare_name'])['rare_name'].count().reset_index(name='count_rare_colors_in_theme')\n",
    "print(rare_colors_in_themes)\n",
    "\n",
    "#create a list of hex codes of the rare color from rare_colors\n",
    "color_list = list(rare_colors['rgb'])\n",
    "\n",
    "#add a hashtag to each list item in color_list\n",
    "color_list_updated = [\"#\" + color for color in color_list]\n",
    "\n",
    "#set color palette for sns \n",
    "sns.set_palette(sns.color_palette(color_list_updated))\n",
    "\n",
    "#plot the number of themes the rare colors appear in using sns.barplot\n",
    "sns.barplot(data=rare_colors_in_themes, x='rare_name', y='count_rare_colors_in_theme')\n",
    "plt.xticks(rotation=90)\n"
   ]
  },
  {
   "cell_type": "code",
   "execution_count": null,
   "id": "ab33dc35-df96-465d-8fb0-35d71b5c022e",
   "metadata": {},
   "outputs": [],
   "source": [
    "#rare_colors_in_top_themes\n",
    "\n"
   ]
  }
 ],
 "metadata": {
  "kernelspec": {
   "display_name": "Python 3 (ipykernel)",
   "language": "python",
   "name": "python3"
  },
  "language_info": {
   "codemirror_mode": {
    "name": "ipython",
    "version": 3
   },
   "file_extension": ".py",
   "mimetype": "text/x-python",
   "name": "python",
   "nbconvert_exporter": "python",
   "pygments_lexer": "ipython3",
   "version": "3.9.12"
  }
 },
 "nbformat": 4,
 "nbformat_minor": 5
}
